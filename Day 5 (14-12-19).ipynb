{
 "cells": [
  {
   "cell_type": "code",
   "execution_count": 1,
   "metadata": {},
   "outputs": [
    {
     "name": "stdout",
     "output_type": "stream",
     "text": [
      "True\n",
      "True\n"
     ]
    }
   ],
   "source": [
    "# membership operators -->in , not in\n",
    "str1 = \"abc xyz\"\n",
    "print('xyz' in str1)\n",
    "print('w' not in str1)"
   ]
  },
  {
   "cell_type": "code",
   "execution_count": 6,
   "metadata": {},
   "outputs": [
    {
     "data": {
      "text/plain": [
       "True"
      ]
     },
     "execution_count": 6,
     "metadata": {},
     "output_type": "execute_result"
    }
   ],
   "source": [
    "# identity operators --> is, is not\n",
    "x=10\n",
    "y=10\n",
    "x is y"
   ]
  },
  {
   "cell_type": "code",
   "execution_count": 5,
   "metadata": {},
   "outputs": [
    {
     "name": "stdout",
     "output_type": "stream",
     "text": [
      "140727102387312 140727102387312\n"
     ]
    }
   ],
   "source": [
    "print(id(x),id(y))"
   ]
  },
  {
   "cell_type": "code",
   "execution_count": 7,
   "metadata": {},
   "outputs": [
    {
     "name": "stdout",
     "output_type": "stream",
     "text": [
      "x<y\n"
     ]
    }
   ],
   "source": [
    "x=10\n",
    "y=20\n",
    "print(\"x<y\") if x<y else print(\"x>y\")"
   ]
  },
  {
   "cell_type": "code",
   "execution_count": 11,
   "metadata": {},
   "outputs": [
    {
     "name": "stdout",
     "output_type": "stream",
     "text": [
      "x<y\n",
      "yes\n",
      "Greater\n"
     ]
    }
   ],
   "source": [
    "if x<y:\n",
    "    print(\"x<y\")\n",
    "    if 5 > 1:\n",
    "        print(\"yes\")\n",
    "        print(\"Greater\")\n",
    "    else:\n",
    "        print(\"no\")\n",
    "else:\n",
    "    print(\"x>y\")"
   ]
  },
  {
   "cell_type": "code",
   "execution_count": 15,
   "metadata": {},
   "outputs": [
    {
     "name": "stdout",
     "output_type": "stream",
     "text": [
      " 0\n",
      " zero\n"
     ]
    }
   ],
   "source": [
    "# accept a no. and check whether the given no is +,- or 0\n",
    "x=int(input('Enter a number: '))\n",
    "if x>0:\n",
    "    print(\"positive\")\n",
    "elif x<0:\n",
    "    print(\"negative\")\n",
    "else:\n",
    "    print(\" zero\")\n"
   ]
  },
  {
   "cell_type": "code",
   "execution_count": 10,
   "metadata": {},
   "outputs": [
    {
     "name": "stdout",
     "output_type": "stream",
     "text": [
      "Enter a number: 6\n",
      "yes\n"
     ]
    }
   ],
   "source": [
    "# accept a no. and check whther the no is divisible by 2 nd 3 but not 4\n",
    "x=int(input(\"Enter a number: \"))\n",
    "if (x%2==0 and x%3==0 and x%4!=0):\n",
    "    print(\"yes\")\n",
    "else:\n",
    "    print(\"no\")"
   ]
  },
  {
   "cell_type": "code",
   "execution_count": 18,
   "metadata": {},
   "outputs": [
    {
     "name": "stdout",
     "output_type": "stream",
     "text": [
      "45 87 98\n",
      "All greater than 30\n",
      "Average is: 76.66666666666667\n",
      "Grade:A\n"
     ]
    }
   ],
   "source": [
    "# accept 3 sub marks of student, if he gets >30 in all --->avg ,   <30 in any 1---> fail\n",
    "# if avg>75 then grade=A,\n",
    "# if avg>65 n avg<75 g= B\n",
    "# if avg>50 n avg<65 g=C\n",
    "# if avg>30 n avg<50 g=D\n",
    "# else failed\n",
    "#m1=int(input(\"Enter m1 marks: \"))\n",
    "#m2=int(input(\"Enter m2 marks: \"))\n",
    "#m3=int(input(\"Enter m3 marks: \"))\n",
    "m1,m2,m3=map(int,input().split())\n",
    "if m1>30 and m2>30 and m3>30:\n",
    "    print(\"All greater than 30\")\n",
    "    avg=(m1+m2+m3)/3\n",
    "    print(\"Average is:\",avg)\n",
    "    if avg>75:\n",
    "        print(\"Grade:A\")\n",
    "    elif avg>65 and avg<75:\n",
    "        print(\"Grade:B\")\n",
    "    elif avg>50 and avg<65:\n",
    "        print(\"Grade:C\")\n",
    "    elif avg>30 and avg<50:\n",
    "        print(\"Grade:D\")\n",
    "else:\n",
    "    print(\"Fail\")"
   ]
  },
  {
   "cell_type": "code",
   "execution_count": 20,
   "metadata": {},
   "outputs": [
    {
     "name": "stdout",
     "output_type": "stream",
     "text": [
      "Enter a number: 10\n",
      "1 2 3 4 5 6 7 8 9 10 "
     ]
    }
   ],
   "source": [
    "# while loop\n",
    "i=1\n",
    "n=int(input('Enter a number: '))\n",
    "while(i<=n):\n",
    "    print(i,end=' ')\n",
    "    i+=1"
   ]
  },
  {
   "cell_type": "code",
   "execution_count": 1,
   "metadata": {},
   "outputs": [
    {
     "name": "stdout",
     "output_type": "stream",
     "text": [
      "Enter a number: 10\n",
      "55\n"
     ]
    }
   ],
   "source": [
    "# sum of n natural numbers\n",
    "i=1\n",
    "sum = 0 \n",
    "n=int(input('Enter a number: '))\n",
    "while(i<=n):\n",
    "    sum += i\n",
    "    i += 1\n",
    "print(sum)"
   ]
  },
  {
   "cell_type": "code",
   "execution_count": 1,
   "metadata": {},
   "outputs": [
    {
     "name": "stdout",
     "output_type": "stream",
     "text": [
      "Enter a number: 10\n",
      "30\n"
     ]
    }
   ],
   "source": [
    "# sum of even n natural numbers\n",
    "i=1\n",
    "sum = 0 \n",
    "n=int(input('Enter a number: '))\n",
    "while(i<=n):\n",
    "    if i%2==0:\n",
    "        sum += i\n",
    "    i += 1\n",
    "print(sum)"
   ]
  },
  {
   "cell_type": "code",
   "execution_count": null,
   "metadata": {},
   "outputs": [],
   "source": [
    "# print digits of number in reverse\n"
   ]
  },
  {
   "cell_type": "code",
   "execution_count": null,
   "metadata": {},
   "outputs": [],
   "source": []
  },
  {
   "cell_type": "code",
   "execution_count": 6,
   "metadata": {},
   "outputs": [
    {
     "name": "stdout",
     "output_type": "stream",
     "text": [
      "26\n"
     ]
    }
   ],
   "source": [
    "s=0\n",
    "for i in str1:\n",
    "    if i.isdigit():\n",
    "        s += int(i)\n",
    "print(s)"
   ]
  },
  {
   "cell_type": "code",
   "execution_count": 3,
   "metadata": {
    "scrolled": true
   },
   "outputs": [
    {
     "name": "stdout",
     "output_type": "stream",
     "text": [
      "10\n",
      "1 2 3 4 5 6 7 8 9 10 "
     ]
    }
   ],
   "source": [
    "n=int(input( ))\n",
    "i=0\n",
    "for i in range(1,11):\n",
    "    print(i, end = ' ')\n",
    "          "
   ]
  },
  {
   "cell_type": "code",
   "execution_count": null,
   "metadata": {},
   "outputs": [],
   "source": []
  },
  {
   "cell_type": "code",
   "execution_count": null,
   "metadata": {},
   "outputs": [],
   "source": []
  }
 ],
 "metadata": {
  "kernelspec": {
   "display_name": "Python 3",
   "language": "python",
   "name": "python3"
  },
  "language_info": {
   "codemirror_mode": {
    "name": "ipython",
    "version": 3
   },
   "file_extension": ".py",
   "mimetype": "text/x-python",
   "name": "python",
   "nbconvert_exporter": "python",
   "pygments_lexer": "ipython3",
   "version": "3.7.1"
  }
 },
 "nbformat": 4,
 "nbformat_minor": 2
}
